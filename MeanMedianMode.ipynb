{
 "cells": [
  {
   "cell_type": "markdown",
   "metadata": {},
   "source": [
    "# Mean, Median, Mode, and introducing NumPy"
   ]
  },
  {
   "cell_type": "markdown",
   "metadata": {},
   "source": [
    "## Mean vs. Median"
   ]
  },
  {
   "cell_type": "markdown",
   "metadata": {},
   "source": [
    "Let's create some fake income data, centered around 27,000 with a normal distribution and standard deviation of 15,000, with 10,000 data points. (We'll discuss those terms more later, if you're not familiar with them.)\n",
    "\n",
    "Then, compute the mean (average) - it should be close to 27,000:"
   ]
  },
  {
   "cell_type": "code",
   "execution_count": 3,
   "metadata": {},
   "outputs": [
    {
     "data": {
      "text/plain": [
       "27170.671868959205"
      ]
     },
     "execution_count": 3,
     "metadata": {},
     "output_type": "execute_result"
    }
   ],
   "source": [
    "import numpy as np\n",
    "\n",
    "incomes = np.random.normal(27000, 15000, 10000)\n",
    "np.mean(incomes)\n"
   ]
  },
  {
   "cell_type": "markdown",
   "metadata": {},
   "source": [
    "We can segment the income data into 50 buckets, and plot it as a histogram:"
   ]
  },
  {
   "cell_type": "code",
   "execution_count": 5,
   "metadata": {},
   "outputs": [
    {
     "data": {
      "image/png": "[encoded data removed]",
      "text/plain": [
       "<Figure size 432x288 with 1 Axes>"
      ]
     },
     "metadata": {
      "needs_background": "light"
     },
     "output_type": "display_data"
    }
   ],
   "source": [
    "%matplotlib inline\n",
    "import matplotlib.pyplot as plt\n",
    "plt.hist(incomes, 50)\n",
    "plt.show()"
   ]
  },
  {
   "cell_type": "markdown",
   "metadata": {},
   "source": [
    "Now compute the median - since we have a nice, even distribution it too should be close to 27,000:"
   ]
  },
  {
   "cell_type": "code",
   "execution_count": 7,
   "metadata": {},
   "outputs": [
    {
     "data": {
      "text/plain": [
       "27038.00459630678"
      ]
     },
     "execution_count": 7,
     "metadata": {},
     "output_type": "execute_result"
    }
   ],
   "source": [
    "np.median(incomes)"
   ]
  },
  {
   "cell_type": "markdown",
   "metadata": {},
   "source": [
    "Now we'll add Jeff Bezos into the mix. Darn income inequality!"
   ]
  },
  {
   "cell_type": "code",
   "execution_count": 8,
   "metadata": {},
   "outputs": [],
   "source": [
    "incomes = np.append(incomes, [1000000000])"
   ]
  },
  {
   "cell_type": "markdown",
   "metadata": {},
   "source": [
    "The median won't change much, but the mean does:"
   ]
  },
  {
   "cell_type": "code",
   "execution_count": 9,
   "metadata": {},
   "outputs": [
    {
     "data": {
      "text/plain": [
       "27038.01358629048"
      ]
     },
     "execution_count": 9,
     "metadata": {},
     "output_type": "execute_result"
    }
   ],
   "source": [
    "np.median(incomes)"
   ]
  },
  {
   "cell_type": "code",
   "execution_count": 10,
   "metadata": {},
   "outputs": [
    {
     "data": {
      "text/plain": [
       "127157.95607335186"
      ]
     },
     "execution_count": 10,
     "metadata": {},
     "output_type": "execute_result"
    }
   ],
   "source": [
    "np.mean(incomes)"
   ]
  },
  {
   "cell_type": "markdown",
   "metadata": {},
   "source": [
    "## Mode"
   ]
  },
  {
   "cell_type": "markdown",
   "metadata": {},
   "source": [
    "Next, let's generate some fake age data for 500 people:"
   ]
  },
  {
   "cell_type": "code",
   "execution_count": 13,
   "metadata": {},
   "outputs": [
    {
     "data": {
      "text/plain": [
       "array([23, 21, 68, 65, 19, 35, 82, 78, 20, 38, 23, 28, 39, 31, 37, 58, 71,\n",
       "       82, 25, 86, 38, 50, 70, 76, 42, 68, 61, 88, 49, 56, 45, 66, 79, 23,\n",
       "       67, 74, 56, 27, 74, 85, 18, 43, 44, 59, 50, 84, 83, 72, 57, 57, 30,\n",
       "       66, 44, 42, 43, 36, 21, 43, 37, 45, 72, 79, 39, 40, 69, 24, 87, 21,\n",
       "       58, 55, 55, 61, 22, 80, 63, 25, 82, 58, 67, 28, 50, 25, 38, 42, 78,\n",
       "       18, 21, 70, 54, 31, 47, 42, 18, 52, 21, 55, 29, 72, 58, 56, 85, 82,\n",
       "       37, 60, 89, 53, 52, 64, 23, 30, 21, 50, 58, 77, 49, 24, 29, 82, 41,\n",
       "       68, 54, 45, 47, 52, 63, 58, 70, 65, 72, 42, 78, 55, 71, 24, 31, 27,\n",
       "       68, 85, 82, 73, 55, 65, 35, 33, 81, 20, 37, 76, 39, 20, 28, 72, 84,\n",
       "       19, 56, 37, 31, 87, 71, 73, 28, 27, 21, 57, 65, 69, 32, 37, 77, 64,\n",
       "       64, 29, 20, 76, 29, 82, 31, 33, 59, 86, 39, 75, 55, 85, 19, 60, 56,\n",
       "       44, 60, 58, 85, 59, 76, 26, 37, 74, 60, 18, 83, 58, 55, 60, 38, 73,\n",
       "       80, 26, 42, 26, 68, 58, 23, 51, 76, 81, 42, 69, 49, 89, 89, 68, 67,\n",
       "       19, 18, 59, 81, 18, 70, 47, 83, 46, 22, 43, 33, 74, 66, 87, 47, 30,\n",
       "       60, 24, 56, 41, 59, 65, 19, 78, 25, 53, 67, 47, 33, 56, 70, 25, 79,\n",
       "       20, 76, 71, 68, 53, 61, 23, 44, 38, 44, 38, 54, 75, 44, 89, 82, 25,\n",
       "       67, 36, 60, 21, 36, 58, 31, 18, 72, 60, 68, 34, 88, 19, 52, 55, 79,\n",
       "       32, 22, 29, 36, 72, 39, 67, 45, 31, 84, 24, 65, 49, 25, 56, 69, 30,\n",
       "       52, 31, 46, 75, 67, 48, 40, 70, 51, 65, 48, 45, 44, 23, 68, 89, 45,\n",
       "       32, 67, 74, 67, 85, 71, 56, 24, 80, 22, 30, 63, 59, 64, 47, 22, 46,\n",
       "       71, 80, 41, 51, 27, 65, 41, 41, 49, 48, 35, 18, 51, 76, 82, 37, 89,\n",
       "       60, 46, 27, 26, 80, 76, 35, 36, 78, 89, 36, 85, 85, 48, 66, 46, 33,\n",
       "       48, 53, 75, 79, 77, 85, 88, 39, 24, 64, 74, 66, 27, 18, 63, 27, 38,\n",
       "       39, 80, 87, 43, 78, 61, 77, 38, 19, 58, 44, 42, 38, 22, 56, 54, 89,\n",
       "       72, 31, 41, 36, 68, 48, 71, 57, 18, 29, 76, 83, 81, 30, 45, 35, 62,\n",
       "       34, 37, 32, 42, 36, 81, 72, 58, 28, 89, 68, 60, 61, 40, 61, 37, 65,\n",
       "       21, 86, 44, 36, 19, 34, 85, 73, 23, 71, 41, 81, 30, 30, 33, 65, 33,\n",
       "       82, 87, 80, 38, 24, 54, 54, 59, 23, 21, 38, 61, 22, 52, 58, 18, 54,\n",
       "       39, 86, 29, 29, 35, 53, 79, 37, 78, 62, 41, 84, 71, 53, 82, 54, 59,\n",
       "       33, 53, 73, 42, 73, 68, 43])"
      ]
     },
     "execution_count": 13,
     "metadata": {},
     "output_type": "execute_result"
    }
   ],
   "source": [
    "ages = np.random.randint(18, high=90, size=500)\n",
    "ages"
   ]
  },
  {
   "cell_type": "code",
   "execution_count": 14,
   "metadata": {},
   "outputs": [
    {
     "data": {
      "text/plain": [
       "ModeResult(mode=array([58]), count=array([13]))"
      ]
     },
     "execution_count": 14,
     "metadata": {},
     "output_type": "execute_result"
    }
   ],
   "source": [
    "from scipy import stats\n",
    "stats.mode(ages)"
   ]
  },
  {
   "cell_type": "code",
   "execution_count": null,
   "metadata": {},
   "outputs": [],
   "source": []
  }
 ],
 "metadata": {
  "kernelspec": {
   "display_name": "Python 3 (ipykernel)",
   "language": "python",
   "name": "python3"
  },
  "language_info": {
   "codemirror_mode": {
    "name": "ipython",
    "version": 3
   },
   "file_extension": ".py",
   "mimetype": "text/x-python",
   "name": "python",
   "nbconvert_exporter": "python",
   "pygments_lexer": "ipython3",
   "version": "3.9.12"
  }
 },
 "nbformat": 4,
 "nbformat_minor": 1
}
